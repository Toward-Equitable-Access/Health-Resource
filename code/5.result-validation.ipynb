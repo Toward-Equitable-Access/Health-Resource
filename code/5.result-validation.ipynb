{
 "cells": [
  {
   "cell_type": "markdown",
   "metadata": {},
   "source": [
    "### __Survey__"
   ]
  },
  {
   "cell_type": "code",
   "execution_count": 1,
   "metadata": {},
   "outputs": [],
   "source": [
    "import pandas as pd\n",
    "import os\n",
    "import geopandas as gpd\n",
    "from shapely.geometry import Point\n",
    "import matplotlib.pyplot as plt"
   ]
  },
  {
   "cell_type": "code",
   "execution_count": null,
   "metadata": {},
   "outputs": [],
   "source": [
    "# Data of all states\n",
    "folder_path = \"../google-map-data/store-meta\"\n",
    "\n",
    "# List to hold all the state dfs\n",
    "state_dataframes = []\n",
    "\n",
    "# Loop through each file in the folder and append the df to the list\n",
    "for file_name in os.listdir(folder_path):\n",
    "    if file_name.endswith('.csv'):\n",
    "        file_path = os.path.join(folder_path, file_name)\n",
    "        df_state = pd.read_csv(file_path)\n",
    "        state_dataframes.append(df_state)\n",
    "\n",
    "# Combine all state DataFrames into one DataFrame\n",
    "df_states = pd.concat(state_dataframes, ignore_index=True)\n",
    "df_states"
   ]
  },
  {
   "cell_type": "code",
   "execution_count": null,
   "metadata": {},
   "outputs": [],
   "source": [
    "# Dropping duplicate rows\n",
    "df_states = df_states.drop_duplicates()\n",
    "df_states"
   ]
  },
  {
   "cell_type": "code",
   "execution_count": null,
   "metadata": {},
   "outputs": [],
   "source": [
    "# Keep only useful columns for df_states\n",
    "columns_to_keep_states = ['gmap_id', 'latitude', 'longitude']\n",
    "df_states = df_states[columns_to_keep_states]\n",
    "df_states"
   ]
  },
  {
   "cell_type": "code",
   "execution_count": null,
   "metadata": {},
   "outputs": [],
   "source": [
    "# Load the shapefile for states\n",
    "states_gdf = gpd.read_file(\"../socio-economic-data/state shapefile/cb_2018_us_state_5m.shp\")\n",
    "\n",
    "# Ensure the CRS of states_gdf is EPSG:4326 for consistency\n",
    "states_gdf = states_gdf.to_crs(epsg=4326)\n",
    "\n",
    "# Convert df_states to a GeoDataFrame by creating a geometry column from latitude and longitude\n",
    "df_states = df_states.copy()  # Make a copy to avoid modifying the original DataFrame\n",
    "df_states['geometry'] = df_states.apply(lambda row: Point(row['longitude'], row['latitude']), axis=1)\n",
    "df_states_gdf = gpd.GeoDataFrame(df_states, geometry='geometry', crs=\"EPSG:4326\")\n",
    "\n",
    "# Ensure consistent data types for merging\n",
    "df_states_gdf['gmap_id'] = df_states_gdf['gmap_id'].astype(str)\n",
    "\n",
    "# Perform spatial intersection using overlay\n",
    "df_states_with_state = gpd.overlay(df_states_gdf, states_gdf, how='intersection')\n",
    "\n",
    "# Assign state names and keep only the relevant columns\n",
    "df_states_with_state['state'] = df_states_with_state['NAME']\n",
    "df_states = df_states_with_state[['gmap_id', 'latitude', 'longitude', 'state']]\n",
    "\n",
    "# Final output\n",
    "df_states"
   ]
  },
  {
   "cell_type": "code",
   "execution_count": null,
   "metadata": {},
   "outputs": [],
   "source": [
    "# Load the review (health resource-related) data\n",
    "df_review = pd.read_csv('../filtered-labeled-data/classed_review_2018.csv')\n",
    "df_review"
   ]
  },
  {
   "cell_type": "code",
   "execution_count": null,
   "metadata": {},
   "outputs": [],
   "source": [
    "# Keeping only the specified columns\n",
    "columns_review = ['gmap_id', 'text', 'time', 'class']\n",
    "df_review = df_review[columns_review]\n",
    "df_review"
   ]
  },
  {
   "cell_type": "code",
   "execution_count": null,
   "metadata": {},
   "outputs": [],
   "source": [
    "# Dropping duplicate rows from df_reviews\n",
    "df_review = df_review.drop_duplicates()\n",
    "df_review"
   ]
  },
  {
   "cell_type": "code",
   "execution_count": null,
   "metadata": {},
   "outputs": [],
   "source": [
    "# Merge both dfs based on 'gmap_id' column\n",
    "df_merged = pd.merge(df_states, df_review, on='gmap_id', how='inner')\n",
    "df_merged"
   ]
  },
  {
   "cell_type": "code",
   "execution_count": null,
   "metadata": {},
   "outputs": [],
   "source": [
    "# Convert the time column to datetime format\n",
    "df_merged['time'] = pd.to_datetime(df_merged['time'])\n",
    "\n",
    "# Function to calculate the review count and average sentiment for each state, per month\n",
    "def calculate_monthly_sentiment(df):\n",
    "    # Extract year and month from the time column\n",
    "    df['month'] = df['time'].dt.to_period('M')\n",
    "\n",
    "    # Group by state and year_month, calculate review count and sentiment\n",
    "    grouped_df = df.groupby(['state', 'month']).agg(\n",
    "        review_count=('gmap_id', 'size'),  # count the number of reviews\n",
    "        total_sentiment=('class', lambda x: (x == 1).sum() - (x == -1).sum())  # calculate the total sentiment\n",
    "    ).reset_index()\n",
    "\n",
    "    # Calculate the average sentiment\n",
    "    grouped_df['average_sentiment'] = grouped_df['total_sentiment'] / grouped_df['review_count']\n",
    "\n",
    "    # Filter out months with less than 10 reviews\n",
    "    filtered_df = grouped_df[grouped_df['review_count'] > 10]\n",
    "\n",
    "    return filtered_df\n",
    "\n",
    "# Calculate the monthly sentiment data\n",
    "result_df = calculate_monthly_sentiment(df_merged)\n",
    "\n",
    "# Display the final df\n",
    "result_df"
   ]
  },
  {
   "cell_type": "code",
   "execution_count": null,
   "metadata": {},
   "outputs": [],
   "source": [
    "# Now proceed with filtering as usual\n",
    "result_df = result_df[(result_df['month'] >= '2020-04') & (result_df['month'] <= '2021-05')]\n",
    "result_df"
   ]
  },
  {
   "cell_type": "code",
   "execution_count": null,
   "metadata": {},
   "outputs": [],
   "source": [
    "# Save the 'filtered_county' as a CSV file\n",
    "file_path = '../result- regression-data/sentiment_validation.csv'\n",
    "result_df.to_csv(file_path, index=False)"
   ]
  }
 ],
 "metadata": {
  "kernelspec": {
   "display_name": "Python 3 (ipykernel)",
   "language": "python",
   "name": "python3"
  },
  "language_info": {
   "codemirror_mode": {
    "name": "ipython",
    "version": 3
   },
   "file_extension": ".py",
   "mimetype": "text/x-python",
   "name": "python",
   "nbconvert_exporter": "python",
   "pygments_lexer": "ipython3",
   "version": "3.11.4"
  }
 },
 "nbformat": 4,
 "nbformat_minor": 2
}
